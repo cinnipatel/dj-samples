{
 "cells": [
  {
   "cell_type": "code",
   "execution_count": 1,
   "metadata": {},
   "outputs": [],
   "source": [
    "%matplotlib inline"
   ]
  },
  {
   "cell_type": "code",
   "execution_count": 2,
   "metadata": {},
   "outputs": [],
   "source": [
    "import datajoint as dj"
   ]
  },
  {
   "cell_type": "code",
   "execution_count": 3,
   "metadata": {},
   "outputs": [
    {
     "name": "stdout",
     "output_type": "stream",
     "text": [
      "Connecting cinni@db.data-science-ust.net:3306\n"
     ]
    },
    {
     "data": {
      "text/plain": [
       "['cinni_uni', 'cinni_university']"
      ]
     },
     "execution_count": 3,
     "metadata": {},
     "output_type": "execute_result"
    }
   ],
   "source": [
    "dj.list_schemas()"
   ]
  },
  {
   "cell_type": "code",
   "execution_count": 5,
   "metadata": {},
   "outputs": [],
   "source": [
    "import datajoint as dj\n",
    "schema = dj.schema('cinni_university')\n",
    "schema.spawn_missing_classes()"
   ]
  },
  {
   "cell_type": "code",
   "execution_count": 6,
   "metadata": {},
   "outputs": [
    {
     "data": {
      "image/svg+xml": [
       "<svg height=\"327pt\" viewBox=\"0.00 0.00 340.50 327.00\" width=\"341pt\" xmlns=\"http://www.w3.org/2000/svg\" xmlns:xlink=\"http://www.w3.org/1999/xlink\">\n",
       "<g class=\"graph\" id=\"graph0\" transform=\"scale(1 1) rotate(0) translate(4 323)\">\n",
       "<title>%3</title>\n",
       "<polygon fill=\"#ffffff\" points=\"-4,4 -4,-323 336.5,-323 336.5,4 -4,4\" stroke=\"transparent\"/>\n",
       "<!-- LetterGrade -->\n",
       "<g class=\"node\" id=\"node1\">\n",
       "<title>LetterGrade</title>\n",
       "<g id=\"a_node1\"><a xlink:title=\"grade                \r",
       "------------------------------\r",
       "points               \r",
       "\">\n",
       "<polygon fill=\"#00ff00\" fill-opacity=\"0.188235\" points=\"80,-106 0,-106 0,-71 80,-71 80,-106\" stroke=\"#00ff00\" stroke-opacity=\"0.188235\"/>\n",
       "<text fill=\"#006400\" font-family=\"arial\" font-size=\"12.00\" text-anchor=\"start\" text-decoration=\"underline\" x=\"8\" y=\"-86.4\">LetterGrade</text>\n",
       "</a>\n",
       "</g>\n",
       "</g>\n",
       "<!-- Grade -->\n",
       "<g class=\"node\" id=\"node10\">\n",
       "<title>Grade</title>\n",
       "<g id=\"a_node10\"><a xlink:title=\"→ Enroll\r",
       "------------------------------\r",
       "→ LetterGrade\r",
       "\">\n",
       "<polygon fill=\"#00ff00\" fill-opacity=\"0.188235\" points=\"106,-35 56,-35 56,0 106,0 106,-35\" stroke=\"#00ff00\" stroke-opacity=\"0.188235\"/>\n",
       "<text fill=\"#006400\" font-family=\"arial\" font-size=\"12.00\" text-anchor=\"middle\" x=\"81\" y=\"-14.4\">Grade</text>\n",
       "</a>\n",
       "</g>\n",
       "</g>\n",
       "<!-- LetterGrade&#45;&gt;Grade -->\n",
       "<g class=\"edge\" id=\"edge1\">\n",
       "<title>LetterGrade-&gt;Grade</title>\n",
       "<path d=\"M50.1348,-70.9494C56.3952,-60.1083 64.4056,-46.2366 70.697,-35.3418\" fill=\"none\" stroke=\"#000000\" stroke-dasharray=\"5,2\" stroke-opacity=\"0.250980\" stroke-width=\".75\"/>\n",
       "</g>\n",
       "<!-- Course -->\n",
       "<g class=\"node\" id=\"node2\">\n",
       "<title>Course</title>\n",
       "<g id=\"a_node2\"><a xlink:title=\"→ Department\r",
       "course               \r",
       "------------------------------\r",
       "course_name          \r",
       "credits              \r",
       "\">\n",
       "<polygon fill=\"#00ff00\" fill-opacity=\"0.188235\" points=\"236,-248 180,-248 180,-213 236,-213 236,-248\" stroke=\"#00ff00\" stroke-opacity=\"0.188235\"/>\n",
       "<text fill=\"#006400\" font-family=\"arial\" font-size=\"12.00\" text-anchor=\"start\" text-decoration=\"underline\" x=\"188\" y=\"-228.4\">Course</text>\n",
       "</a>\n",
       "</g>\n",
       "</g>\n",
       "<!-- Section -->\n",
       "<g class=\"node\" id=\"node5\">\n",
       "<title>Section</title>\n",
       "<g id=\"a_node5\"><a xlink:title=\"→ Course\r",
       "→ Term\r",
       "section              \r",
       "------------------------------\r",
       "auditorium           \r",
       "\">\n",
       "<polygon fill=\"#00ff00\" fill-opacity=\"0.188235\" points=\"231.5,-177 174.5,-177 174.5,-142 231.5,-142 231.5,-177\" stroke=\"#00ff00\" stroke-opacity=\"0.188235\"/>\n",
       "<text fill=\"#006400\" font-family=\"arial\" font-size=\"12.00\" text-anchor=\"start\" text-decoration=\"underline\" x=\"182.5\" y=\"-157.4\">Section</text>\n",
       "</a>\n",
       "</g>\n",
       "</g>\n",
       "<!-- Course&#45;&gt;Section -->\n",
       "<g class=\"edge\" id=\"edge2\">\n",
       "<title>Course-&gt;Section</title>\n",
       "<path d=\"M206.764,-212.9494C206.0006,-202.1083 205.0237,-188.2366 204.2565,-177.3418\" fill=\"none\" stroke=\"#000000\" stroke-opacity=\"0.250980\" stroke-width=\".75\"/>\n",
       "</g>\n",
       "<!-- StudentMajor -->\n",
       "<g class=\"node\" id=\"node3\">\n",
       "<title>StudentMajor</title>\n",
       "<g id=\"a_node3\"><a xlink:title=\"→ Student\r",
       "------------------------------\r",
       "→ Department\r",
       "declare_date         \r",
       "\">\n",
       "<polygon fill=\"#00ff00\" fill-opacity=\"0.188235\" points=\"162,-248 74,-248 74,-213 162,-213 162,-248\" stroke=\"#00ff00\" stroke-opacity=\"0.188235\"/>\n",
       "<text fill=\"#006400\" font-family=\"arial\" font-size=\"12.00\" text-anchor=\"middle\" x=\"118\" y=\"-227.4\">StudentMajor</text>\n",
       "</a>\n",
       "</g>\n",
       "</g>\n",
       "<!-- CurrentTerm -->\n",
       "<g class=\"node\" id=\"node4\">\n",
       "<title>CurrentTerm</title>\n",
       "<g id=\"a_node4\"><a xlink:title=\"→ Term\r",
       "\">\n",
       "<polygon fill=\"#00ff00\" fill-opacity=\"0.188235\" points=\"332.5,-177 249.5,-177 249.5,-142 332.5,-142 332.5,-177\" stroke=\"#00ff00\" stroke-opacity=\"0.188235\"/>\n",
       "<text fill=\"#006400\" font-family=\"arial\" font-size=\"12.00\" text-anchor=\"middle\" x=\"291\" y=\"-156.4\">CurrentTerm</text>\n",
       "</a>\n",
       "</g>\n",
       "</g>\n",
       "<!-- Enroll -->\n",
       "<g class=\"node\" id=\"node8\">\n",
       "<title>Enroll</title>\n",
       "<g id=\"a_node8\"><a xlink:title=\"→ Student\r",
       "→ Section\r",
       "\">\n",
       "<polygon fill=\"#00ff00\" fill-opacity=\"0.188235\" points=\"146,-106 98,-106 98,-71 146,-71 146,-106\" stroke=\"#00ff00\" stroke-opacity=\"0.188235\"/>\n",
       "<text fill=\"#006400\" font-family=\"arial\" font-size=\"12.00\" text-anchor=\"middle\" x=\"122\" y=\"-85.4\">Enroll</text>\n",
       "</a>\n",
       "</g>\n",
       "</g>\n",
       "<!-- Section&#45;&gt;Enroll -->\n",
       "<g class=\"edge\" id=\"edge3\">\n",
       "<title>Section-&gt;Enroll</title>\n",
       "<path d=\"M182.9775,-141.9494C170.5158,-131.0262 154.544,-117.0262 142.0729,-106.0947\" fill=\"none\" stroke=\"#000000\" stroke-opacity=\"0.250980\" stroke-width=\".75\"/>\n",
       "</g>\n",
       "<!-- Student -->\n",
       "<g class=\"node\" id=\"node6\">\n",
       "<title>Student</title>\n",
       "<g id=\"a_node6\"><a xlink:title=\"student_id           \r",
       "------------------------------\r",
       "first_name           \r",
       "last_name            \r",
       "sex                  \r",
       "date_of_birth        \r",
       "home_address         \r",
       "home_city            \r",
       "home_state           \r",
       "home_zip             \r",
       "home_phone           \r",
       "\">\n",
       "<polygon fill=\"#00ff00\" fill-opacity=\"0.188235\" points=\"111,-319 53,-319 53,-284 111,-284 111,-319\" stroke=\"#00ff00\" stroke-opacity=\"0.188235\"/>\n",
       "<text fill=\"#006400\" font-family=\"arial\" font-size=\"12.00\" text-anchor=\"start\" text-decoration=\"underline\" x=\"61\" y=\"-299.4\">Student</text>\n",
       "</a>\n",
       "</g>\n",
       "</g>\n",
       "<!-- Student&#45;&gt;StudentMajor -->\n",
       "<g class=\"edge\" id=\"edge4\">\n",
       "<title>Student-&gt;StudentMajor</title>\n",
       "<path d=\"M90.8989,-283.9494C96.3958,-273.1083 103.4293,-259.2366 108.9534,-248.3418\" fill=\"none\" stroke=\"#000000\" stroke-opacity=\"0.250980\" stroke-width=\"2\"/>\n",
       "</g>\n",
       "<!-- Student&#45;&gt;Enroll -->\n",
       "<g class=\"edge\" id=\"edge5\">\n",
       "<title>Student-&gt;Enroll</title>\n",
       "<path d=\"M74.3714,-283.8163C67.6411,-265.9139 59.6673,-237.4582 65,-213 73.8116,-172.5858 96.9775,-129.5938 110.9141,-106.1985\" fill=\"none\" stroke=\"#000000\" stroke-opacity=\"0.250980\" stroke-width=\".75\"/>\n",
       "</g>\n",
       "<!-- Term -->\n",
       "<g class=\"node\" id=\"node7\">\n",
       "<title>Term</title>\n",
       "<g id=\"a_node7\"><a xlink:title=\"term_year            \r",
       "term                 \r",
       "\">\n",
       "<polygon fill=\"#00ff00\" fill-opacity=\"0.188235\" points=\"307.5,-248 264.5,-248 264.5,-213 307.5,-213 307.5,-248\" stroke=\"#00ff00\" stroke-opacity=\"0.188235\"/>\n",
       "<text fill=\"#006400\" font-family=\"arial\" font-size=\"12.00\" text-anchor=\"start\" text-decoration=\"underline\" x=\"272.5\" y=\"-228.4\">Term</text>\n",
       "</a>\n",
       "</g>\n",
       "</g>\n",
       "<!-- Term&#45;&gt;CurrentTerm -->\n",
       "<g class=\"edge\" id=\"edge6\">\n",
       "<title>Term-&gt;CurrentTerm</title>\n",
       "<path d=\"M287.236,-212.9494C287.9994,-202.1083 288.9763,-188.2366 289.7435,-177.3418\" fill=\"none\" stroke=\"#000000\" stroke-opacity=\"0.250980\" stroke-width=\"2\"/>\n",
       "</g>\n",
       "<!-- Term&#45;&gt;Section -->\n",
       "<g class=\"edge\" id=\"edge7\">\n",
       "<title>Term-&gt;Section</title>\n",
       "<path d=\"M265.4831,-212.9494C252.7138,-202.0262 236.3476,-188.0262 223.5685,-177.0947\" fill=\"none\" stroke=\"#000000\" stroke-opacity=\"0.250980\" stroke-width=\".75\"/>\n",
       "</g>\n",
       "<!-- Enroll&#45;&gt;Grade -->\n",
       "<g class=\"edge\" id=\"edge8\">\n",
       "<title>Enroll-&gt;Grade</title>\n",
       "<path d=\"M111.8652,-70.9494C105.6048,-60.1083 97.5944,-46.2366 91.303,-35.3418\" fill=\"none\" stroke=\"#000000\" stroke-opacity=\"0.250980\" stroke-width=\"2\"/>\n",
       "</g>\n",
       "<!-- Department -->\n",
       "<g class=\"node\" id=\"node9\">\n",
       "<title>Department</title>\n",
       "<g id=\"a_node9\"><a xlink:title=\"dept                 \r",
       "------------------------------\r",
       "dept_name            \r",
       "dept_address         \r",
       "dept_phone           \r",
       "\">\n",
       "<polygon fill=\"#00ff00\" fill-opacity=\"0.188235\" points=\"227.5,-319 148.5,-319 148.5,-284 227.5,-284 227.5,-319\" stroke=\"#00ff00\" stroke-opacity=\"0.188235\"/>\n",
       "<text fill=\"#006400\" font-family=\"arial\" font-size=\"12.00\" text-anchor=\"start\" text-decoration=\"underline\" x=\"156.5\" y=\"-299.4\">Department</text>\n",
       "</a>\n",
       "</g>\n",
       "</g>\n",
       "<!-- Department&#45;&gt;Course -->\n",
       "<g class=\"edge\" id=\"edge9\">\n",
       "<title>Department-&gt;Course</title>\n",
       "<path d=\"M192.9438,-283.9494C195.9976,-273.1083 199.9052,-259.2366 202.9741,-248.3418\" fill=\"none\" stroke=\"#000000\" stroke-opacity=\"0.250980\" stroke-width=\".75\"/>\n",
       "</g>\n",
       "<!-- Department&#45;&gt;StudentMajor -->\n",
       "<g class=\"edge\" id=\"edge10\">\n",
       "<title>Department-&gt;StudentMajor</title>\n",
       "<path d=\"M170.6966,-283.9494C160.0082,-273.1083 146.3318,-259.2366 135.5905,-248.3418\" fill=\"none\" stroke=\"#000000\" stroke-dasharray=\"5,2\" stroke-opacity=\"0.250980\" stroke-width=\".75\"/>\n",
       "</g>\n",
       "</g>\n",
       "</svg>"
      ],
      "text/plain": [
       "<datajoint.diagram.Diagram at 0x7f0607ce0a58>"
      ]
     },
     "execution_count": 6,
     "metadata": {},
     "output_type": "execute_result"
    }
   ],
   "source": [
    "dj.Diagram(schema)"
   ]
  },
  {
   "cell_type": "code",
   "execution_count": 7,
   "metadata": {},
   "outputs": [
    {
     "data": {
      "text/html": [
       "\n",
       "        \n",
       "        <style type=\"text/css\">\n",
       "            .Relation{\n",
       "                border-collapse:collapse;\n",
       "            }\n",
       "            .Relation th{\n",
       "                background: #A0A0A0; color: #ffffff; padding:4px; border:#f0e0e0 1px solid;\n",
       "                font-weight: normal; font-family: monospace; font-size: 100%;\n",
       "            }\n",
       "            .Relation td{\n",
       "                padding:4px; border:#f0e0e0 1px solid; font-size:100%;\n",
       "            }\n",
       "            .Relation tr:nth-child(odd){\n",
       "                background: #ffffff;\n",
       "            }\n",
       "            .Relation tr:nth-child(even){\n",
       "                background: #f3f1ff;\n",
       "            }\n",
       "            /* Tooltip container */\n",
       "            .djtooltip {\n",
       "            }\n",
       "            /* Tooltip text */\n",
       "            .djtooltip .djtooltiptext {\n",
       "                visibility: hidden;\n",
       "                width: 120px;\n",
       "                background-color: black;\n",
       "                color: #fff;\n",
       "                text-align: center;\n",
       "                padding: 5px 0;\n",
       "                border-radius: 6px;\n",
       "                /* Position the tooltip text - see examples below! */\n",
       "                position: absolute;\n",
       "                z-index: 1;\n",
       "            }\n",
       "            #primary {\n",
       "                font-weight: bold;\n",
       "                color: black;\n",
       "            }\n",
       "\n",
       "            #nonprimary {\n",
       "                font-weight: normal;\n",
       "                color: white;\n",
       "            }\n",
       "\n",
       "            /* Show the tooltip text when you mouse over the tooltip container */\n",
       "            .djtooltip:hover .djtooltiptext {\n",
       "                visibility: visible;\n",
       "            }\n",
       "        </style>\n",
       "        \n",
       "        \n",
       "            <div style=\"max-height:1000px;max-width:1500px;overflow:auto;\">\n",
       "            <table border=\"1\" class=\"Relation\">\n",
       "                <thead> <tr style=\"text-align: right;\"> <th> <div class=\"djtooltip\">\n",
       "                                <p id=\"nonprimary\">n</p>\n",
       "                                <span class=\"djtooltiptext\">calculated attribute</span>\n",
       "                            </div> </th> </tr> </thead>\n",
       "                <tbody> <tr> <td>1500</td> </tr> </tbody>\n",
       "            </table>\n",
       "            \n",
       "            <p>Total: 1</p></div>\n",
       "            "
      ],
      "text/plain": [
       "n       \n",
       "+------+\n",
       "1500    \n",
       " (Total: 1)"
      ]
     },
     "execution_count": 7,
     "metadata": {},
     "output_type": "execute_result"
    }
   ],
   "source": [
    "dj.U().aggr(Student(), n='count(*)')"
   ]
  },
  {
   "cell_type": "code",
   "execution_count": null,
   "metadata": {
    "scrolled": false
   },
   "outputs": [],
   "source": [
    "dj.U('birth_year').aggr(Student.proj(birth_year='year(date_of_birth)'), n='count(*)').make_sql()"
   ]
  },
  {
   "cell_type": "code",
   "execution_count": null,
   "metadata": {},
   "outputs": [],
   "source": [
    "dj.U('birth_year') & Student.proj(birth_year='year(date_of_birth)')"
   ]
  },
  {
   "cell_type": "code",
   "execution_count": null,
   "metadata": {},
   "outputs": [],
   "source": [
    "Student.describe();"
   ]
  },
  {
   "cell_type": "code",
   "execution_count": null,
   "metadata": {},
   "outputs": [],
   "source": [
    "dj.ERD(schema)"
   ]
  },
  {
   "cell_type": "code",
   "execution_count": null,
   "metadata": {
    "scrolled": true
   },
   "outputs": [],
   "source": [
    "dj.U().aggr(Student, n='count(*)')"
   ]
  },
  {
   "cell_type": "code",
   "execution_count": null,
   "metadata": {},
   "outputs": [],
   "source": [
    "StudentMajor()"
   ]
  },
  {
   "cell_type": "code",
   "execution_count": null,
   "metadata": {},
   "outputs": [],
   "source": [
    "LetterGrade.aggr(Grade & CurrentTerm & 'dept=\"MATH\"', n='count(*)')\n",
    "\n",
    "dj.U('grade').aggr(Grade & CurrentTerm & 'dept=\"MATH\"', n='count(*)')"
   ]
  },
  {
   "cell_type": "markdown",
   "metadata": {},
   "source": [
    "# Example queries"
   ]
  },
  {
   "cell_type": "markdown",
   "metadata": {},
   "source": [
    "## Restriction"
   ]
  },
  {
   "cell_type": "code",
   "execution_count": null,
   "metadata": {},
   "outputs": [],
   "source": [
    "# Students from Texas\n",
    "Student & {'home_state': 'TX'}\n",
    "Student & 'home_state=\"TX\"'"
   ]
  },
  {
   "cell_type": "code",
   "execution_count": null,
   "metadata": {},
   "outputs": [],
   "source": [
    "# Male students from outside Texas\n",
    "(Student & 'sex=\"M\"')- {'home_state': 'TX'}"
   ]
  },
  {
   "cell_type": "code",
   "execution_count": null,
   "metadata": {},
   "outputs": [],
   "source": [
    "# Male students from outside Texas\n",
    "Student & {'sex=\"M\" and home_state <> \"TX\"'}\n",
    "(Student & {'sex':\"M\"}) - {'home_state': \"TX\"}"
   ]
  },
  {
   "cell_type": "code",
   "execution_count": null,
   "metadata": {},
   "outputs": [],
   "source": [
    "# Students from TX, OK, or NM\n",
    "Student & [{'home_state':'OK'}, {'home_state':'NM'}, {'home_state':'TX'}] \n",
    "Student & [{'home_state': s} for s in ('OK','NM','TX')]\n",
    "Student & 'home_state in (\"OK\", \"NM\", \"TX\")'"
   ]
  },
  {
   "cell_type": "code",
   "execution_count": null,
   "metadata": {},
   "outputs": [],
   "source": [
    "(millenials - (Enroll & 'dept=\"MATH\"')).make_sql()"
   ]
  },
  {
   "cell_type": "code",
   "execution_count": null,
   "metadata": {},
   "outputs": [],
   "source": [
    "# Millenials\n",
    "millenials = Student & 'date_of_birth between \"1981-01-01\" and \"1996-12-31\"'"
   ]
  },
  {
   "cell_type": "code",
   "execution_count": null,
   "metadata": {},
   "outputs": [],
   "source": [
    "# Students who have taken classes\n",
    "Student & Enroll"
   ]
  },
  {
   "cell_type": "code",
   "execution_count": null,
   "metadata": {},
   "outputs": [],
   "source": [
    "# Students who have not taken classes\n",
    "Student - Enroll"
   ]
  },
  {
   "cell_type": "code",
   "execution_count": null,
   "metadata": {},
   "outputs": [],
   "source": [
    "# Students who have taken Biology classes but no MATH courses\n",
    "(Student & (Enroll & 'dept=\"BIOL\"')) - (Enroll & 'dept=\"MATH\"')"
   ]
  },
  {
   "cell_type": "code",
   "execution_count": null,
   "metadata": {},
   "outputs": [],
   "source": [
    "# Students who have not selected a major\n",
    "Student - StudentMajor"
   ]
  },
  {
   "cell_type": "code",
   "execution_count": null,
   "metadata": {},
   "outputs": [],
   "source": [
    "# Students who are taking courses in the current term\n",
    "Student - (Enroll & CurrentTerm)"
   ]
  },
  {
   "cell_type": "code",
   "execution_count": null,
   "metadata": {},
   "outputs": [],
   "source": [
    "# Ungraded courses\n",
    "Enroll - Grade"
   ]
  },
  {
   "cell_type": "code",
   "execution_count": null,
   "metadata": {},
   "outputs": [],
   "source": [
    "# Ungraded courses in the current term\n",
    "(Enroll & CurrentTerm) - Grade"
   ]
  },
  {
   "cell_type": "code",
   "execution_count": null,
   "metadata": {
    "scrolled": true
   },
   "outputs": [],
   "source": [
    "# Students who have taken classes and have chosen a major\n",
    "(Student & Enroll & StudentMajor).fetch(as_dict=True)"
   ]
  },
  {
   "cell_type": "code",
   "execution_count": null,
   "metadata": {},
   "outputs": [],
   "source": [
    "#Students who have taken classes or have chosen a major\n",
    "Student & [Enroll, StudentMajor]"
   ]
  },
  {
   "cell_type": "code",
   "execution_count": null,
   "metadata": {},
   "outputs": [],
   "source": [
    "# Enrollment in courses from the same department as the students' major\n",
    "Enroll & StudentMajor"
   ]
  },
  {
   "cell_type": "markdown",
   "metadata": {},
   "source": [
    "## Join"
   ]
  },
  {
   "cell_type": "code",
   "execution_count": null,
   "metadata": {},
   "outputs": [],
   "source": [
    "# Grade point values\n",
    "Grade * LetterGrade"
   ]
  },
  {
   "cell_type": "code",
   "execution_count": null,
   "metadata": {},
   "outputs": [],
   "source": [
    "# Graded enrollments with complete course and student information\n",
    "Student * Enroll * Course * Section * Grade * LetterGrade"
   ]
  },
  {
   "cell_type": "code",
   "execution_count": null,
   "metadata": {},
   "outputs": [],
   "source": [
    "# Students with ungraded courses in current term\n",
    "Student & (Enroll * CurrentTerm - Grade)"
   ]
  },
  {
   "cell_type": "code",
   "execution_count": null,
   "metadata": {},
   "outputs": [],
   "source": [
    "# Enrollments before students' date of birth\n",
    "Student * Enroll & 'term_year <= date_of_birth'"
   ]
  },
  {
   "cell_type": "markdown",
   "metadata": {},
   "source": [
    "## Proj"
   ]
  },
  {
   "cell_type": "code",
   "execution_count": null,
   "metadata": {},
   "outputs": [],
   "source": [
    "# remove student personal info other than home state and sex\n",
    "Student.proj('home_state', 'sex')"
   ]
  },
  {
   "cell_type": "code",
   "execution_count": null,
   "metadata": {},
   "outputs": [],
   "source": [
    "# Student major\n",
    "Student.proj('first_name','last_name')*StudentMajor.proj(major='dept')"
   ]
  },
  {
   "cell_type": "code",
   "execution_count": null,
   "metadata": {},
   "outputs": [],
   "source": [
    "# Enrollment with major information\n",
    "Enroll * StudentMajor.proj(major='dept')"
   ]
  },
  {
   "cell_type": "code",
   "execution_count": null,
   "metadata": {},
   "outputs": [],
   "source": [
    "# Enrollment outside chosen major\n",
    "Enroll * StudentMajor.proj(major='dept') & 'major<>dept'"
   ]
  },
  {
   "cell_type": "code",
   "execution_count": null,
   "metadata": {},
   "outputs": [],
   "source": [
    "# Enrollment not matching major \n",
    "Enroll - StudentMajor "
   ]
  },
  {
   "cell_type": "code",
   "execution_count": null,
   "metadata": {},
   "outputs": [],
   "source": [
    "# Total grade points\n",
    "(Course * Grade * LetterGrade).proj(total='points*credits')"
   ]
  },
  {
   "cell_type": "markdown",
   "metadata": {},
   "source": [
    "## Aggr"
   ]
  },
  {
   "cell_type": "code",
   "execution_count": null,
   "metadata": {
    "scrolled": false
   },
   "outputs": [],
   "source": [
    "dj.U().aggr(Student(), n='count(*)')"
   ]
  },
  {
   "cell_type": "code",
   "execution_count": null,
   "metadata": {},
   "outputs": [],
   "source": [
    "# Students in each section\n",
    "Section.aggr(Enroll, n='count(*)')"
   ]
  },
  {
   "cell_type": "code",
   "execution_count": null,
   "metadata": {},
   "outputs": [],
   "source": [
    "# Average grade in each course\n",
    "Course.aggr(Grade*LetterGrade, avg_grade='avg(points)')"
   ]
  },
  {
   "cell_type": "code",
   "execution_count": null,
   "metadata": {},
   "outputs": [],
   "source": [
    "# Fraction graded in each section\n",
    "(Section.aggr(Enroll,n='count(*)') * Section.aggr(Grade, m='count(*)')).proj(\n",
    "    'm','n',frac='m/n')"
   ]
  },
  {
   "cell_type": "code",
   "execution_count": null,
   "metadata": {},
   "outputs": [],
   "source": [
    "# GPA\n",
    "Student.aggr(Course * Grade * LetterGrade, \n",
    "             gpa='sum(points*credits)/sum(credits)')"
   ]
  },
  {
   "cell_type": "code",
   "execution_count": null,
   "metadata": {},
   "outputs": [],
   "source": [
    "# GPA in current Term\n",
    "Student.aggr(Course * Grade * LetterGrade & CurrentTerm, \n",
    "             gpa='sum(points*credits)/sum(credits)')"
   ]
  },
  {
   "cell_type": "code",
   "execution_count": null,
   "metadata": {},
   "outputs": [],
   "source": [
    "# Average GPA for each major\n",
    "gpa = Student.aggr(Course * Grade * LetterGrade,\n",
    "                   gpa='sum(points*credits)/sum(credits)')\n",
    "Department.aggr(StudentMajor*gpa, avg_gpa='avg(gpa)')"
   ]
  },
  {
   "cell_type": "markdown",
   "metadata": {},
   "source": [
    "## Relation U"
   ]
  },
  {
   "cell_type": "code",
   "execution_count": null,
   "metadata": {},
   "outputs": [],
   "source": [
    "# All home states\n",
    "dj.U('home_state').aggr(Student, n='count(*)')"
   ]
  },
  {
   "cell_type": "code",
   "execution_count": null,
   "metadata": {},
   "outputs": [],
   "source": [
    "# Unique last names\n",
    "dj.U('last_name') & Student "
   ]
  },
  {
   "cell_type": "code",
   "execution_count": null,
   "metadata": {},
   "outputs": [],
   "source": [
    "# Number of students from each state by gender\n",
    "dj.U('home_state', 'sex').aggr(Student, n='count(*)')"
   ]
  },
  {
   "cell_type": "code",
   "execution_count": null,
   "metadata": {},
   "outputs": [],
   "source": [
    "# GPA by sex\n",
    "dj.U('sex').aggr(Student*gpa, avg_gpa ='avg(gpa)')"
   ]
  },
  {
   "cell_type": "code",
   "execution_count": null,
   "metadata": {},
   "outputs": [],
   "source": [
    "# Sex ratio for gender neutral names\n",
    "(dj.U('first_name').aggr(Student, percent_male='100*avg(sex=\"M\")'\n",
    "                       ) & 'percent_male > 0 and percent_male < 100').make_sql()"
   ]
  },
  {
   "cell_type": "code",
   "execution_count": null,
   "metadata": {},
   "outputs": [],
   "source": [
    "# Students with the same birthdays\n",
    "s1 = Student.proj('date_of_birth', s1='student_id') * dj.U('date_of_birth')\n",
    "s2 = Student.proj('date_of_birth', s2='student_id') * dj.U('date_of_birth')\n",
    "s1 * s2 & 's1 < s2'"
   ]
  },
  {
   "cell_type": "code",
   "execution_count": null,
   "metadata": {},
   "outputs": [],
   "source": [
    "dj.U().aggr(Student(), n='count(*)')"
   ]
  },
  {
   "cell_type": "code",
   "execution_count": null,
   "metadata": {},
   "outputs": [],
   "source": []
  }
 ],
 "metadata": {
  "kernelspec": {
   "display_name": "Python 3",
   "language": "python",
   "name": "python3"
  },
  "language_info": {
   "codemirror_mode": {
    "name": "ipython",
    "version": 3
   },
   "file_extension": ".py",
   "mimetype": "text/x-python",
   "name": "python",
   "nbconvert_exporter": "python",
   "pygments_lexer": "ipython3",
   "version": "3.6.9"
  }
 },
 "nbformat": 4,
 "nbformat_minor": 2
}
